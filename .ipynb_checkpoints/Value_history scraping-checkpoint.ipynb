{
 "cells": [
  {
   "cell_type": "code",
   "execution_count": 1,
   "id": "fa09c9f4",
   "metadata": {},
   "outputs": [],
   "source": [
    "import pandas as pd\n",
    "import numpy as np\n",
    "import os\n",
    "import requests\n",
    "import json\n",
    "import bs4"
   ]
  },
  {
   "cell_type": "code",
   "execution_count": 3,
   "id": "cfbfd3b6",
   "metadata": {},
   "outputs": [],
   "source": [
    "headers = { 'method': \"GET\", \n",
    "\"scheme\": \"https\", \n",
    "\"authority\": \"www.utahcounty.gov\", \n",
    "\"path\": \"/landrecords/property.asp?av_serial=10020001010\", \n",
    "\"Cookie\": \"_ga=GA1.1.454174444.1689906642; _ga_03RXT0WNT6=GS1.1.1690512663.3.1.1690513282.0.0.0; _ga_LZQBPP7NCD=GS1.1.1690512663.3.1.1690513282.0.0.0; _gid=GA1.2.362175096.1690512664; ASPSESSIONIDSGADBBRQ=JFNEJCJBGKHKMIPFLDDCGHGC; _gat_gtag_UA_56623110_1=1; _ga_LZQBPP7NCD=deleted\", \n",
    "\"Accept\": \"text/html,application/xhtml+xml,application/xml;q=0.9,*/*;q=0.8\", \n",
    "\"Host\": \"www.utahcounty.gov\", \n",
    "\"User-Agent\": \"Mozilla/5.0 (Macintosh; Intel Mac OS X 10_15_7) AppleWebKit/605.1.15 (KHTML, like Gecko) Version/15.6.1 Safari/605.1.15\", \n",
    "\"Accept-Language\": \"en-US,en;q=0.9\", \n",
    "\"Accept-Encoding\": \"gzip, deflate, br\", \n",
    "\"Connection\": \"keep-alive\" } "
   ]
  },
  {
   "cell_type": "code",
   "execution_count": 8,
   "id": "4ca779d2",
   "metadata": {},
   "outputs": [],
   "source": [
    "web_response = requests.get(\"https://www.utahcounty.gov/landrecords/property.asp?av_serial=10020001010\", headers = headers)"
   ]
  },
  {
   "cell_type": "code",
   "execution_count": 10,
   "id": "15ba92a7",
   "metadata": {},
   "outputs": [],
   "source": [
    "soup = bs4.BeautifulSoup(web_response.text)"
   ]
  },
  {
   "cell_type": "code",
   "execution_count": 11,
   "id": "b7ccc473",
   "metadata": {},
   "outputs": [],
   "source": [
    "divs = soup.find_all('div', attrs = {'class' : \"TabbedPanelsContent\"})"
   ]
  },
  {
   "cell_type": "code",
   "execution_count": 17,
   "id": "e1fe5d94",
   "metadata": {},
   "outputs": [],
   "source": [
    "Value_History = divs[1]"
   ]
  },
  {
   "cell_type": "code",
   "execution_count": 20,
   "id": "e737c12b",
   "metadata": {},
   "outputs": [],
   "source": [
    "all_table_rows = Value_History.find_all('tr')"
   ]
  },
  {
   "cell_type": "code",
   "execution_count": 25,
   "id": "d4b280c6",
   "metadata": {},
   "outputs": [
    {
     "data": {
      "text/plain": [
       "'Year'"
      ]
     },
     "execution_count": 25,
     "metadata": {},
     "output_type": "execute_result"
    }
   ],
   "source": [
    "all_table_rows[1].find_all('td')[0].text"
   ]
  },
  {
   "cell_type": "code",
   "execution_count": 26,
   "id": "e02afb6d",
   "metadata": {},
   "outputs": [
    {
     "data": {
      "text/plain": [
       "'Tot'"
      ]
     },
     "execution_count": 26,
     "metadata": {},
     "output_type": "execute_result"
    }
   ],
   "source": [
    "all_table_rows[1].find_all('td')[4].text"
   ]
  },
  {
   "cell_type": "code",
   "execution_count": 27,
   "id": "028e647c",
   "metadata": {},
   "outputs": [
    {
     "data": {
      "text/plain": [
       "'Tot'"
      ]
     },
     "execution_count": 27,
     "metadata": {},
     "output_type": "execute_result"
    }
   ],
   "source": [
    "all_table_rows[1].find_all('td')[8].text"
   ]
  },
  {
   "cell_type": "code",
   "execution_count": null,
   "id": "d56b4070",
   "metadata": {},
   "outputs": [],
   "source": [
    "for i in all_table_rows:\n",
    "    all_tds = i.find_all('td')"
   ]
  }
 ],
 "metadata": {
  "kernelspec": {
   "display_name": "Python 3 (ipykernel)",
   "language": "python",
   "name": "python3"
  },
  "language_info": {
   "codemirror_mode": {
    "name": "ipython",
    "version": 3
   },
   "file_extension": ".py",
   "mimetype": "text/x-python",
   "name": "python",
   "nbconvert_exporter": "python",
   "pygments_lexer": "ipython3",
   "version": "3.8.16"
  }
 },
 "nbformat": 4,
 "nbformat_minor": 5
}
